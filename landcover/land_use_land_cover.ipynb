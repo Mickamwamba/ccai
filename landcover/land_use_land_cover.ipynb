{
 "cells": [
  {
   "cell_type": "markdown",
   "id": "c0c1a6fa-0164-4642-b9b3-c4c530b18b1f",
   "metadata": {},
   "source": [
    "# Land Use and Land Cover Classification using Pytorch\n",
    "\n",
    "In this two-part tutorial, you will learn how to:\n",
    "- train a deep learning model for image classification using Pytorch\n",
    "- generate land use and land cover maps using Python GIS"
   ]
  },
  {
   "cell_type": "markdown",
   "id": "ea710606-33be-4318-91c4-0347973dfa0f",
   "metadata": {},
   "source": [
    "# Overview"
   ]
  },
  {
   "cell_type": "markdown",
   "id": "b15c164b-e25d-4f3b-906f-8bdd29c7a2a4",
   "metadata": {},
   "source": [
    "This notebook covers an an introduction to image classification using Pytorch for land use and land cover (LULC) mapping. \n",
    "We will be able to: \n",
    "- classify satellite images into 10 LULC categories using the EuroSAT dataset\n",
    "- Fine-turn a ResNet-50 CNN model for image classification\n",
    "- Save and Load trained models in Pytorch"
   ]
  },
  {
   "cell_type": "markdown",
   "id": "eb33b7ea-eba7-4465-8568-e7e7b5eeda8e",
   "metadata": {},
   "source": [
    "<a name=\"climate-impact\"></a>\n",
    "# Climate Impact\n",
    "A [report](https://www.wri.org/insights/7-things-know-about-ipccs-special-report-climate-change-and-land) by the World Resources Institute (WRI) states that about 23% of global human-caused GHG emissions come from land uses such as agriculture, forestry, and urban expansion. Land use change such as deforestation and land degradation are among the primary drivers of these emissions. Rapid urbanization leading to an increase in built-up areas as well as a massive loss of terrestrial carbon storage can also result in large carbon emissions.\n",
    "\n",
    "Mapping the extent of land use and land cover categories over time is essential for better environmental monitoring, urban planning and nature protection. For example, monitoring changes in forest cover and identifying drivers of forest loss can be useful for forest conservation and restoration efforts. Assessing the vulnerability of certain land cover types, such as settlements and agricultural land, to certain risks can also be useful for for disaster risk reduction planning as well as long-term climate adaptation efforts.\n",
    "\n",
    "With the increasing availability of earth observation data coupled with recent advanced in computer vision, AI & EO has paved the way for the potential to map land use and land cover at an unprecedented scale. In this tutorial, we will explore the use of Sentinel-2 satellite images and deep learning models in Pytorch to automate LULC mapping.\n",
    "<br>\n",
    "<center><p><p> <img src=\"https://ptes.org/wp-content/uploads/2018/04/iStock-664630460-e1524839082464.jpg\" alt=\"alt\" width=\"50%\"/>"
   ]
  },
  {
   "cell_type": "markdown",
   "id": "fd212be4-692b-4c1f-bb28-31b6beb366a1",
   "metadata": {},
   "source": [
    "# Importing Required Libraries"
   ]
  },
  {
   "cell_type": "code",
   "execution_count": 45,
   "id": "6105f83b-38ab-4e53-b18a-2254a8f44a20",
   "metadata": {},
   "outputs": [],
   "source": [
    "# Standard libraries\n",
    "import os\n",
    "import random\n",
    "from tqdm.notebook import tqdm\n",
    "\n",
    "# Data manipulation and visualization\n",
    "import matplotlib.pyplot as plt\n",
    "from PIL import Image\n",
    "import seaborn as sns\n",
    "import pandas as pd\n",
    "import numpy as np\n",
    "\n",
    "# Deep Learning libraries\n",
    "import torch\n",
    "import torchvision\n",
    "import torchsummary\n",
    "from torch.utils import data\n",
    "from torchvision import datasets, models, transforms\n",
    "\n",
    "# Set seed for reproducibility\n",
    "SEED = 42\n",
    "np.random.seed(SEED)"
   ]
  },
  {
   "cell_type": "code",
   "execution_count": null,
   "id": "aa12755b-0804-47d8-9304-154fc36cdebd",
   "metadata": {},
   "outputs": [],
   "source": []
  },
  {
   "cell_type": "markdown",
   "id": "698ed0d7-46d3-4cc6-a4bb-09658b27923d",
   "metadata": {},
   "source": [
    "## Check that the GPU is enabled. "
   ]
  },
  {
   "cell_type": "code",
   "execution_count": 46,
   "id": "18ff665e-614e-4588-aed5-bba91191cf70",
   "metadata": {},
   "outputs": [
    {
     "name": "stdout",
     "output_type": "stream",
     "text": [
      "Device: cpu\n"
     ]
    }
   ],
   "source": [
    "device = torch.device(\"cuda:0\" if torch.cuda.is_available() else \"cpu\")\n",
    "print(\"Device: {}\".format(device))\n",
    "\n",
    "# Get specific GPU model\n",
    "if str(device) == \"cuda:0\":\n",
    "  print(\"GPU: {}\".format(torch.cuda.get_device_name(0)))"
   ]
  },
  {
   "cell_type": "code",
   "execution_count": null,
   "id": "581bc877-abce-4a63-a6f8-5d991b50f99d",
   "metadata": {},
   "outputs": [],
   "source": []
  },
  {
   "cell_type": "markdown",
   "id": "0e135168-2cce-495e-bd80-2f105ca81a7e",
   "metadata": {},
   "source": [
    "# Data Description\n",
    "- Download the EuroSAT dataset \n",
    "- Generate the train and test sets \n",
    "- Visualize a sample of images "
   ]
  },
  {
   "cell_type": "markdown",
   "id": "eadfa6e7-d4d6-47b6-954c-0ada9562a9c2",
   "metadata": {},
   "source": [
    "## EuroSAT dataset\n",
    "The EuroSAT dataset contains 27,000 labelled 64x64 pixel Sentiel-2 satellite image patches with 10 different LULC categories. "
   ]
  },
  {
   "cell_type": "code",
   "execution_count": 44,
   "id": "4d699182-79ff-44d8-97d4-2e202e3842af",
   "metadata": {},
   "outputs": [
    {
     "name": "stdout",
     "output_type": "stream",
     "text": [
      "--2024-08-09 08:39:19--  http://madm.dfki.de/files/sentinel/EuroSAT.zip\n",
      "Resolving madm.dfki.de (madm.dfki.de)... 131.246.195.183\n",
      "Connecting to madm.dfki.de (madm.dfki.de)|131.246.195.183|:80... connected.\n",
      "HTTP request sent, awaiting response... 200 OK\n",
      "Length: 94280567 (90M) [application/zip]\n",
      "Saving to: ‘EuroSAT.zip’\n",
      "\n",
      "EuroSAT.zip         100%[===================>]  89.91M  6.94MB/s    in 15s     \n",
      "\n",
      "2024-08-09 08:39:34 (5.99 MB/s) - ‘EuroSAT.zip’ saved [94280567/94280567]\n",
      "\n",
      "replace EuroSAT/2750/River/River_479.jpg? [y]es, [n]o, [A]ll, [N]one, [r]ename: ^C\n"
     ]
    }
   ],
   "source": [
    "!wget http://madm.dfki.de/files/sentinel/EuroSAT.zip -O EuroSAT.zip\n",
    "!unzip -q EuroSAT.zip -d 'EuroSAT/'\n",
    "!rm EuroSAT.zip"
   ]
  },
  {
   "cell_type": "code",
   "execution_count": null,
   "id": "9d50cb81-8817-4908-a871-d92348b98783",
   "metadata": {},
   "outputs": [],
   "source": []
  },
  {
   "cell_type": "markdown",
   "id": "63415e79-6805-4c28-8b04-081455186684",
   "metadata": {},
   "source": [
    "## Generate Train and Test Sets\n",
    "We wiill create custom Pytorch Dataset to help us in loading the data we want from the source folder"
   ]
  },
  {
   "cell_type": "code",
   "execution_count": 47,
   "id": "cac867ff-bb7e-4f60-88fb-70201d5656f6",
   "metadata": {},
   "outputs": [],
   "source": [
    "class EuroSAT(data.Dataset):\n",
    "    def __init__(self,dataset,transform=None):\n",
    "        self.dataset = dataset\n",
    "        self.transform = transform\n",
    "    def __getitem__(self,index):\n",
    "        #Apply image transformation if transform is set to true\n",
    "        if self.transform: \n",
    "            x = self.transform(dataset[index],[0])\n",
    "        else: \n",
    "            x = dataset[index][0]\n",
    "        # get the corresponding label \n",
    "        y = dataset[index][1]\n",
    "        return x,y\n",
    "\n",
    "    def __len__(self):\n",
    "        return len(dataset)"
   ]
  },
  {
   "cell_type": "code",
   "execution_count": null,
   "id": "f294d629-bd15-4836-ba7b-b3b42e35cd47",
   "metadata": {},
   "outputs": [],
   "source": []
  },
  {
   "cell_type": "markdown",
   "id": "37d447d4-f71a-48e9-b674-a80d04d45b80",
   "metadata": {},
   "source": [
    "## Image Transformations\n",
    "- In this section, we will define transformations that we want to apply to our images. We will apply data augumentation to our training set and also normalize our images to the normals of the large imagenet dataset.\n",
    "- Note: While the augumentation will be done on the training set, we will not do augumentation to the validation and test sets. The only reason we wan to do augumentation to the training set is to train the model to be able to identify objects in different orientations. There is no point of doing data augumentation to the validation and the test sets."
   ]
  },
  {
   "cell_type": "code",
   "execution_count": 48,
   "id": "ed6fa389-7c3f-486a-8756-9100782a74fc",
   "metadata": {},
   "outputs": [],
   "source": [
    "input_size = 224\n",
    "imagenet_mean , imagenet_std = [0.485, 0.456, 0.406], [0.229, 0.224, 0.225]\n",
    "\n",
    "train_transform = transforms.Compose([\n",
    "    transforms.RandomResizedCrop(input_size), \n",
    "    transforms.RandomHorizontalFlip(), \n",
    "    transforms.RandomVerticalFlip(), \n",
    "    transforms.ToTensor(), \n",
    "    transforms.Normalize(imagenet_mean,imagenet_std)\n",
    "])\n",
    "\n",
    "val_transform = transforms.Compose([\n",
    "    transforms.Resize(input_size), \n",
    "    transforms.CenterCrop(input_size), \n",
    "    transforms.ToTensor(), \n",
    "    transforms.Normalize(imagenet_mean,imagenet_std)\n",
    "])\n",
    "\n",
    "test_transform = transforms.Compose([\n",
    "    transforms.Resize(input_size), \n",
    "    transforms.CenterCrop(input_size), \n",
    "    transforms.ToTensor(), \n",
    "    transforms.Normalize(imagenet_mean,imagenet_std)\n",
    "    \n",
    "])"
   ]
  },
  {
   "cell_type": "markdown",
   "id": "deba44fb-4ef2-4406-a92e-e2cdfe71b83e",
   "metadata": {},
   "source": [
    "## Load EuroSAT DataSet\n",
    "- Now we have define all the transformations, we are ready to load the EuroSAT dataset. We will use the torch's ImageFolder class to parse the source folder of our images.\n",
    "\n",
    "  `ImageFolder` is a generic data loader where the images are arranged in this way:\n",
    "\n",
    "```\n",
    "    data\n",
    "    └───AnnualCrop\n",
    "    │   │   AnnualCrop_1.jpg\n",
    "    │   │   AnnualCrop_2.jpg\n",
    "    │   │   AnnualCrop_3.jpg\n",
    "    │   │   ...\n",
    "    └───Forest\n",
    "    │   │   Forest_1.jpg\n",
    "    │   │   Forest_2.jpg\n",
    "    │   │   Forest_3.jpg\n",
    "    │   │   ...\n",
    "```"
   ]
  },
  {
   "cell_type": "code",
   "execution_count": 49,
   "id": "65031ee6-29eb-4f24-97fe-1a107d21c992",
   "metadata": {},
   "outputs": [
    {
     "data": {
      "text/plain": [
       "Dataset ImageFolder\n",
       "    Number of datapoints: 27000\n",
       "    Root location: ./EuroSAT/2750/"
      ]
     },
     "execution_count": 49,
     "metadata": {},
     "output_type": "execute_result"
    }
   ],
   "source": [
    "# load the dataset \n",
    "data_dir = './EuroSAT/2750/'\n",
    "dataset = datasets.ImageFolder(data_dir)\n",
    "dataset"
   ]
  },
  {
   "cell_type": "code",
   "execution_count": 50,
   "id": "1c2f95f1-2b17-4e85-a6fa-d9671c59c8d1",
   "metadata": {},
   "outputs": [
    {
     "name": "stdout",
     "output_type": "stream",
     "text": [
      "Class names: ['AnnualCrop', 'Forest', 'HerbaceousVegetation', 'Highway', 'Industrial', 'Pasture', 'PermanentCrop', 'Residential', 'River', 'SeaLake']\n",
      "Total number of classes: 10\n"
     ]
    }
   ],
   "source": [
    "# Get LULC categories\n",
    "class_names = dataset.classes\n",
    "print(\"Class names: {}\".format(class_names))\n",
    "print(\"Total number of classes: {}\".format(len(class_names)))"
   ]
  },
  {
   "cell_type": "code",
   "execution_count": null,
   "id": "c6787300-542e-48d3-93a0-6f39bcf3d1f6",
   "metadata": {},
   "outputs": [],
   "source": []
  },
  {
   "cell_type": "markdown",
   "id": "6b3a94cc-4815-4c9a-bc49-f940bf73b169",
   "metadata": {},
   "source": [
    "## Split into Train, Validation and Test Sets\n",
    "- Here, we split the dataset into a train set and test set. Training set will be 70% of the EuroSAT dataset, randomly selected.\n",
    "- We set aside 15% of the dataset as our validation set and the remaining 15% as our test set."
   ]
  },
  {
   "cell_type": "code",
   "execution_count": 51,
   "id": "b460ad22-976c-4c3e-a06a-cafa53c5e911",
   "metadata": {},
   "outputs": [
    {
     "name": "stdout",
     "output_type": "stream",
     "text": [
      "Train/val/test sizes: 18900/4050/4050\n"
     ]
    }
   ],
   "source": [
    "# Apply different transformations to the training and test set.\n",
    "train_data = EuroSAT(dataset,train_transform)\n",
    "val_data = EuroSAT(dataset,val_transform)\n",
    "test_data = EuroSAT(dataset,test_transform)\n",
    "\n",
    "# Randomly split the dataset into 70% train, 15% val and 15% test \n",
    "\n",
    "train_size = 0.7\n",
    "val_size = 0.15 \n",
    "indices = list(range(int(len(dataset))))\n",
    "train_split = int(train_size*len(dataset))\n",
    "val_split = int(val_size*len(dataset))\n",
    "np.random.shuffle(indices)\n",
    "\n",
    "train_data = data.Subset(train_data,indices=indices[:train_split])\n",
    "val_data = data.Subset(val_data,indices=indices[train_split:train_split+val_split])\n",
    "test_data = data.Subset(test_data,indices=indices[train_split+val_split:])\n",
    "\n",
    "print(\"Train/val/test sizes: {}/{}/{}\".format(len(train_data),len(val_data),len(test_data)))\n",
    "      "
   ]
  },
  {
   "cell_type": "markdown",
   "id": "5db99851-18ca-4559-8498-16f4c650a3d8",
   "metadata": {},
   "source": [
    "Finally, we use torch's DataLoader class to create a dataloader. The dataloader managers fetching samples from the datasets (it can even\n",
    "fetch them in parallel using num_workers) and assembles batches of datasets."
   ]
  },
  {
   "cell_type": "code",
   "execution_count": 52,
   "id": "5f79a043-8f78-419a-b2d9-6c8a0e30ed0a",
   "metadata": {},
   "outputs": [],
   "source": [
    "num_workers = 2 \n",
    "batch_size = 16 \n",
    "\n",
    "train_loader = data.DataLoader(\n",
    "    train_data,batch_size=batch_size,num_workers=num_workers,shuffle=True\n",
    ")\n",
    "val_loader = data.DataLoader(\n",
    "    val_data,batch_size=batch_size,num_workers=num_workers,shuffle=False\n",
    ")\n",
    "test_loader = data.DataLoader(\n",
    "    test_data,batch_size=batch_size,num_workers=num_workers,shuffle=False\n",
    ")"
   ]
  },
  {
   "cell_type": "markdown",
   "id": "bf6c2f9a-ec80-4106-b202-5ea78c5427f1",
   "metadata": {},
   "source": [
    "## Visualize Data"
   ]
  },
  {
   "cell_type": "markdown",
   "id": "10479650-6135-4399-84f3-ff34eee1d2a9",
   "metadata": {},
   "source": [
    "In the cell below, we will visualize a batch of the dataset."
   ]
  },
  {
   "cell_type": "code",
   "execution_count": null,
   "id": "42583c86-2477-4220-ac1b-456e64d4d0fd",
   "metadata": {},
   "outputs": [],
   "source": [
    "n = 4\n",
    "inputs, classes = next(iter(train_loader))\n",
    "fig, axes = plt.subplots(n, n, figsize=(8, 8))\n",
    "\n",
    "for i in range(n):\n",
    "  for j in range(n):\n",
    "    image = inputs[i * n + j].numpy().transpose((1, 2, 0))\n",
    "    image = np.clip(np.array(imagenet_std) * image + np.array(imagenet_mean), 0, 1)\n",
    "\n",
    "    title = class_names[classes[i * n + j]]\n",
    "    axes[i, j].imshow(image)\n",
    "    axes[i, j].set_title(title)\n",
    "    axes[i, j].axis('off')"
   ]
  },
  {
   "cell_type": "markdown",
   "id": "f381382e-76ee-4ef5-9ad2-545364885609",
   "metadata": {},
   "source": [
    "## Exploratory Data Analysis\n",
    "Next, lets explore our dataset a little bit more. In particular, how many images of each class are included?"
   ]
  },
  {
   "cell_type": "code",
   "execution_count": 55,
   "id": "32333d44-d79f-4303-8c84-8e6847a04ad6",
   "metadata": {},
   "outputs": [
    {
     "data": {
      "image/png": "[encoded data removed]",
      "text/plain": [
       "<Figure size 600x300 with 1 Axes>"
      ]
     },
     "metadata": {},
     "output_type": "display_data"
    }
   ],
   "source": [
    "plt.figure(figsize=(6, 3))\n",
    "hist = sns.histplot(dataset.targets)\n",
    "\n",
    "hist.set_xticks(range(len(dataset.classes)))\n",
    "hist.set_xticklabels(dataset.classes, rotation=90)\n",
    "hist.set_title('Histogram of Dataset Classes in EuroSAT Dataset')\n",
    "\n",
    "plt.show()"
   ]
  },
  {
   "cell_type": "code",
   "execution_count": null,
   "id": "640d0069-aa83-4db5-91d1-be2ca58ddf8b",
   "metadata": {},
   "outputs": [],
   "source": []
  },
  {
   "cell_type": "markdown",
   "id": "72181267-b1d9-45dd-9033-d78eaf8a6df6",
   "metadata": {},
   "source": [
    "## Model Development"
   ]
  },
  {
   "cell_type": "markdown",
   "id": "eda94091-8036-4feb-af33-4d704101a85b",
   "metadata": {},
   "source": [
    "## Instantiate Model\n",
    "First, lets instantiate the model. We will use a standard neural network architecture, ResNet50. "
   ]
  },
  {
   "cell_type": "code",
   "execution_count": 58,
   "id": "274a12b6-16c3-4de7-b5b1-74553d02207a",
   "metadata": {},
   "outputs": [
    {
     "name": "stdout",
     "output_type": "stream",
     "text": [
      "----------------------------------------------------------------\n",
      "        Layer (type)               Output Shape         Param #\n",
      "================================================================\n",
      "            Conv2d-1         [-1, 64, 112, 112]           9,408\n",
      "       BatchNorm2d-2         [-1, 64, 112, 112]             128\n",
      "              ReLU-3         [-1, 64, 112, 112]               0\n",
      "         MaxPool2d-4           [-1, 64, 56, 56]               0\n",
      "            Conv2d-5           [-1, 64, 56, 56]           4,096\n",
      "       BatchNorm2d-6           [-1, 64, 56, 56]             128\n",
      "              ReLU-7           [-1, 64, 56, 56]               0\n",
      "            Conv2d-8           [-1, 64, 56, 56]          36,864\n",
      "       BatchNorm2d-9           [-1, 64, 56, 56]             128\n",
      "             ReLU-10           [-1, 64, 56, 56]               0\n",
      "           Conv2d-11          [-1, 256, 56, 56]          16,384\n",
      "      BatchNorm2d-12          [-1, 256, 56, 56]             512\n",
      "           Conv2d-13          [-1, 256, 56, 56]          16,384\n",
      "      BatchNorm2d-14          [-1, 256, 56, 56]             512\n",
      "             ReLU-15          [-1, 256, 56, 56]               0\n",
      "       Bottleneck-16          [-1, 256, 56, 56]               0\n",
      "           Conv2d-17           [-1, 64, 56, 56]          16,384\n",
      "      BatchNorm2d-18           [-1, 64, 56, 56]             128\n",
      "             ReLU-19           [-1, 64, 56, 56]               0\n",
      "           Conv2d-20           [-1, 64, 56, 56]          36,864\n",
      "      BatchNorm2d-21           [-1, 64, 56, 56]             128\n",
      "             ReLU-22           [-1, 64, 56, 56]               0\n",
      "           Conv2d-23          [-1, 256, 56, 56]          16,384\n",
      "      BatchNorm2d-24          [-1, 256, 56, 56]             512\n",
      "             ReLU-25          [-1, 256, 56, 56]               0\n",
      "       Bottleneck-26          [-1, 256, 56, 56]               0\n",
      "           Conv2d-27           [-1, 64, 56, 56]          16,384\n",
      "      BatchNorm2d-28           [-1, 64, 56, 56]             128\n",
      "             ReLU-29           [-1, 64, 56, 56]               0\n",
      "           Conv2d-30           [-1, 64, 56, 56]          36,864\n",
      "      BatchNorm2d-31           [-1, 64, 56, 56]             128\n",
      "             ReLU-32           [-1, 64, 56, 56]               0\n",
      "           Conv2d-33          [-1, 256, 56, 56]          16,384\n",
      "      BatchNorm2d-34          [-1, 256, 56, 56]             512\n",
      "             ReLU-35          [-1, 256, 56, 56]               0\n",
      "       Bottleneck-36          [-1, 256, 56, 56]               0\n",
      "           Conv2d-37          [-1, 128, 56, 56]          32,768\n",
      "      BatchNorm2d-38          [-1, 128, 56, 56]             256\n",
      "             ReLU-39          [-1, 128, 56, 56]               0\n",
      "           Conv2d-40          [-1, 128, 28, 28]         147,456\n",
      "      BatchNorm2d-41          [-1, 128, 28, 28]             256\n",
      "             ReLU-42          [-1, 128, 28, 28]               0\n",
      "           Conv2d-43          [-1, 512, 28, 28]          65,536\n",
      "      BatchNorm2d-44          [-1, 512, 28, 28]           1,024\n",
      "           Conv2d-45          [-1, 512, 28, 28]         131,072\n",
      "      BatchNorm2d-46          [-1, 512, 28, 28]           1,024\n",
      "             ReLU-47          [-1, 512, 28, 28]               0\n",
      "       Bottleneck-48          [-1, 512, 28, 28]               0\n",
      "           Conv2d-49          [-1, 128, 28, 28]          65,536\n",
      "      BatchNorm2d-50          [-1, 128, 28, 28]             256\n",
      "             ReLU-51          [-1, 128, 28, 28]               0\n",
      "           Conv2d-52          [-1, 128, 28, 28]         147,456\n",
      "      BatchNorm2d-53          [-1, 128, 28, 28]             256\n",
      "             ReLU-54          [-1, 128, 28, 28]               0\n",
      "           Conv2d-55          [-1, 512, 28, 28]          65,536\n",
      "      BatchNorm2d-56          [-1, 512, 28, 28]           1,024\n",
      "             ReLU-57          [-1, 512, 28, 28]               0\n",
      "       Bottleneck-58          [-1, 512, 28, 28]               0\n",
      "           Conv2d-59          [-1, 128, 28, 28]          65,536\n",
      "      BatchNorm2d-60          [-1, 128, 28, 28]             256\n",
      "             ReLU-61          [-1, 128, 28, 28]               0\n",
      "           Conv2d-62          [-1, 128, 28, 28]         147,456\n",
      "      BatchNorm2d-63          [-1, 128, 28, 28]             256\n",
      "             ReLU-64          [-1, 128, 28, 28]               0\n",
      "           Conv2d-65          [-1, 512, 28, 28]          65,536\n",
      "      BatchNorm2d-66          [-1, 512, 28, 28]           1,024\n",
      "             ReLU-67          [-1, 512, 28, 28]               0\n",
      "       Bottleneck-68          [-1, 512, 28, 28]               0\n",
      "           Conv2d-69          [-1, 128, 28, 28]          65,536\n",
      "      BatchNorm2d-70          [-1, 128, 28, 28]             256\n",
      "             ReLU-71          [-1, 128, 28, 28]               0\n",
      "           Conv2d-72          [-1, 128, 28, 28]         147,456\n",
      "      BatchNorm2d-73          [-1, 128, 28, 28]             256\n",
      "             ReLU-74          [-1, 128, 28, 28]               0\n",
      "           Conv2d-75          [-1, 512, 28, 28]          65,536\n",
      "      BatchNorm2d-76          [-1, 512, 28, 28]           1,024\n",
      "             ReLU-77          [-1, 512, 28, 28]               0\n",
      "       Bottleneck-78          [-1, 512, 28, 28]               0\n",
      "           Conv2d-79          [-1, 256, 28, 28]         131,072\n",
      "      BatchNorm2d-80          [-1, 256, 28, 28]             512\n",
      "             ReLU-81          [-1, 256, 28, 28]               0\n",
      "           Conv2d-82          [-1, 256, 14, 14]         589,824\n",
      "      BatchNorm2d-83          [-1, 256, 14, 14]             512\n",
      "             ReLU-84          [-1, 256, 14, 14]               0\n",
      "           Conv2d-85         [-1, 1024, 14, 14]         262,144\n",
      "      BatchNorm2d-86         [-1, 1024, 14, 14]           2,048\n",
      "           Conv2d-87         [-1, 1024, 14, 14]         524,288\n",
      "      BatchNorm2d-88         [-1, 1024, 14, 14]           2,048\n",
      "             ReLU-89         [-1, 1024, 14, 14]               0\n",
      "       Bottleneck-90         [-1, 1024, 14, 14]               0\n",
      "           Conv2d-91          [-1, 256, 14, 14]         262,144\n",
      "      BatchNorm2d-92          [-1, 256, 14, 14]             512\n",
      "             ReLU-93          [-1, 256, 14, 14]               0\n",
      "           Conv2d-94          [-1, 256, 14, 14]         589,824\n",
      "      BatchNorm2d-95          [-1, 256, 14, 14]             512\n",
      "             ReLU-96          [-1, 256, 14, 14]               0\n",
      "           Conv2d-97         [-1, 1024, 14, 14]         262,144\n",
      "      BatchNorm2d-98         [-1, 1024, 14, 14]           2,048\n",
      "             ReLU-99         [-1, 1024, 14, 14]               0\n",
      "      Bottleneck-100         [-1, 1024, 14, 14]               0\n",
      "          Conv2d-101          [-1, 256, 14, 14]         262,144\n",
      "     BatchNorm2d-102          [-1, 256, 14, 14]             512\n",
      "            ReLU-103          [-1, 256, 14, 14]               0\n",
      "          Conv2d-104          [-1, 256, 14, 14]         589,824\n",
      "     BatchNorm2d-105          [-1, 256, 14, 14]             512\n",
      "            ReLU-106          [-1, 256, 14, 14]               0\n",
      "          Conv2d-107         [-1, 1024, 14, 14]         262,144\n",
      "     BatchNorm2d-108         [-1, 1024, 14, 14]           2,048\n",
      "            ReLU-109         [-1, 1024, 14, 14]               0\n",
      "      Bottleneck-110         [-1, 1024, 14, 14]               0\n",
      "          Conv2d-111          [-1, 256, 14, 14]         262,144\n",
      "     BatchNorm2d-112          [-1, 256, 14, 14]             512\n",
      "            ReLU-113          [-1, 256, 14, 14]               0\n",
      "          Conv2d-114          [-1, 256, 14, 14]         589,824\n",
      "     BatchNorm2d-115          [-1, 256, 14, 14]             512\n",
      "            ReLU-116          [-1, 256, 14, 14]               0\n",
      "          Conv2d-117         [-1, 1024, 14, 14]         262,144\n",
      "     BatchNorm2d-118         [-1, 1024, 14, 14]           2,048\n",
      "            ReLU-119         [-1, 1024, 14, 14]               0\n",
      "      Bottleneck-120         [-1, 1024, 14, 14]               0\n",
      "          Conv2d-121          [-1, 256, 14, 14]         262,144\n",
      "     BatchNorm2d-122          [-1, 256, 14, 14]             512\n",
      "            ReLU-123          [-1, 256, 14, 14]               0\n",
      "          Conv2d-124          [-1, 256, 14, 14]         589,824\n",
      "     BatchNorm2d-125          [-1, 256, 14, 14]             512\n",
      "            ReLU-126          [-1, 256, 14, 14]               0\n",
      "          Conv2d-127         [-1, 1024, 14, 14]         262,144\n",
      "     BatchNorm2d-128         [-1, 1024, 14, 14]           2,048\n",
      "            ReLU-129         [-1, 1024, 14, 14]               0\n",
      "      Bottleneck-130         [-1, 1024, 14, 14]               0\n",
      "          Conv2d-131          [-1, 256, 14, 14]         262,144\n",
      "     BatchNorm2d-132          [-1, 256, 14, 14]             512\n",
      "            ReLU-133          [-1, 256, 14, 14]               0\n",
      "          Conv2d-134          [-1, 256, 14, 14]         589,824\n",
      "     BatchNorm2d-135          [-1, 256, 14, 14]             512\n",
      "            ReLU-136          [-1, 256, 14, 14]               0\n",
      "          Conv2d-137         [-1, 1024, 14, 14]         262,144\n",
      "     BatchNorm2d-138         [-1, 1024, 14, 14]           2,048\n",
      "            ReLU-139         [-1, 1024, 14, 14]               0\n",
      "      Bottleneck-140         [-1, 1024, 14, 14]               0\n",
      "          Conv2d-141          [-1, 512, 14, 14]         524,288\n",
      "     BatchNorm2d-142          [-1, 512, 14, 14]           1,024\n",
      "            ReLU-143          [-1, 512, 14, 14]               0\n",
      "          Conv2d-144            [-1, 512, 7, 7]       2,359,296\n",
      "     BatchNorm2d-145            [-1, 512, 7, 7]           1,024\n",
      "            ReLU-146            [-1, 512, 7, 7]               0\n",
      "          Conv2d-147           [-1, 2048, 7, 7]       1,048,576\n",
      "     BatchNorm2d-148           [-1, 2048, 7, 7]           4,096\n",
      "          Conv2d-149           [-1, 2048, 7, 7]       2,097,152\n",
      "     BatchNorm2d-150           [-1, 2048, 7, 7]           4,096\n",
      "            ReLU-151           [-1, 2048, 7, 7]               0\n",
      "      Bottleneck-152           [-1, 2048, 7, 7]               0\n",
      "          Conv2d-153            [-1, 512, 7, 7]       1,048,576\n",
      "     BatchNorm2d-154            [-1, 512, 7, 7]           1,024\n",
      "            ReLU-155            [-1, 512, 7, 7]               0\n",
      "          Conv2d-156            [-1, 512, 7, 7]       2,359,296\n",
      "     BatchNorm2d-157            [-1, 512, 7, 7]           1,024\n",
      "            ReLU-158            [-1, 512, 7, 7]               0\n",
      "          Conv2d-159           [-1, 2048, 7, 7]       1,048,576\n",
      "     BatchNorm2d-160           [-1, 2048, 7, 7]           4,096\n",
      "            ReLU-161           [-1, 2048, 7, 7]               0\n",
      "      Bottleneck-162           [-1, 2048, 7, 7]               0\n",
      "          Conv2d-163            [-1, 512, 7, 7]       1,048,576\n",
      "     BatchNorm2d-164            [-1, 512, 7, 7]           1,024\n",
      "            ReLU-165            [-1, 512, 7, 7]               0\n",
      "          Conv2d-166            [-1, 512, 7, 7]       2,359,296\n",
      "     BatchNorm2d-167            [-1, 512, 7, 7]           1,024\n",
      "            ReLU-168            [-1, 512, 7, 7]               0\n",
      "          Conv2d-169           [-1, 2048, 7, 7]       1,048,576\n",
      "     BatchNorm2d-170           [-1, 2048, 7, 7]           4,096\n",
      "            ReLU-171           [-1, 2048, 7, 7]               0\n",
      "      Bottleneck-172           [-1, 2048, 7, 7]               0\n",
      "AdaptiveAvgPool2d-173           [-1, 2048, 1, 1]               0\n",
      "          Linear-174                   [-1, 10]          20,490\n",
      "================================================================\n",
      "Total params: 23,528,522\n",
      "Trainable params: 23,528,522\n",
      "Non-trainable params: 0\n",
      "----------------------------------------------------------------\n",
      "Input size (MB): 0.57\n",
      "Forward/backward pass size (MB): 286.55\n",
      "Params size (MB): 89.75\n",
      "Estimated Total Size (MB): 376.88\n",
      "----------------------------------------------------------------\n"
     ]
    }
   ],
   "source": [
    "model = models.resnet50(weights=models.ResNet50_Weights.DEFAULT)\n",
    "model.fc = torch.nn.Linear(model.fc.in_features,len(dataset.classes))\n",
    "model = model.to(device)\n",
    "torchsummary.summary(model,(3,224,224))"
   ]
  },
  {
   "cell_type": "markdown",
   "id": "cd0a78ba-2297-41bc-9f20-e4a45811a22f",
   "metadata": {},
   "source": [
    "## Model Training and Evaluation \n",
    "During model training and evaluation, we are interested in 3 main things.\n",
    "- Specify the criterion, optimizer and hyperparameters (e.g n_epochs, learning rate etc)\n",
    "- Train the model on the training set by updating its weights to minimize the loss function.\n",
    "- Evaluate the model on the test set to observe performance on new, unseen data.\n",
    "- Repeat steps 2 and 3 n_epochs times. "
   ]
  },
  {
   "cell_type": "code",
   "execution_count": 60,
   "id": "28b23ff4-7c6c-46f3-a0a1-90e68b2ed530",
   "metadata": {},
   "outputs": [],
   "source": [
    "# specify the number of epochs and the learning rate: \n",
    "n_epochs = 10 \n",
    "lr = 1e-3\n",
    "\n",
    "#specify criterion and the optimizer \n",
    "criterion = torch.nn.CrossEntropyLoss()\n",
    "optimizer = torch.optim.SGD(model.parameters(), lr=lr)\n"
   ]
  },
  {
   "cell_type": "markdown",
   "id": "7fa4512f-8d9d-4b1b-9f67-fe2b9f2947a8",
   "metadata": {},
   "source": [
    "Next, lets create our training function"
   ]
  },
  {
   "cell_type": "code",
   "execution_count": 62,
   "id": "2982d159-f560-4a58-b92e-3c637c8be9ca",
   "metadata": {},
   "outputs": [],
   "source": [
    "def train(model,dataloader,criterion,optimizer): \n",
    "    model.train()\n",
    "\n",
    "    running_loss = 0.0 \n",
    "    running_total_correct = 0.0 \n",
    "\n",
    "    for i, (inputs,labels) in enumerate((tqdmdataloader)):\n",
    "        inputs = inputs.to(device)\n",
    "        labels = labels.to(device)\n",
    "\n",
    "        # zero the parameter gradients \n",
    "        # clear off previous weights in order to obtain updated weights\n",
    "\n",
    "        optimizer.zero_grad()\n",
    "\n",
    "        #Forward pass\n",
    "        outputs = model(inputs)\n",
    "\n",
    "        # compute the loss\n",
    "        loss = criterion(outputs,labels)\n",
    "\n",
    "        # compute the gradients wrt to the loss\n",
    "        loss.backward()\n",
    "\n",
    "        # update the weights based on the internally stored gradients \n",
    "        optimizer.step()\n",
    "\n",
    "        # calculate statistics: \n",
    "        _, preds = torch.max(outputs,1)\n",
    "\n",
    "        # calculate running loss and accuracy \n",
    "        running_loss += loss.item() * inputs.size(0)\n",
    "        running_total_correct += torch.sum(preds == labels)\n",
    "\n",
    "        # Calculate epoch loss and accuracy\n",
    "        epoch_loss = running_loss / len(dataloader.dataset)\n",
    "        epoch_accuracy = (running_total_correct / len(dataloader.dataset))*100\n",
    "        print(f\"Train Loss: {epoch_loss:.2f}; Accuracy: {epoch_accuracy:.2f}\")\n",
    "\n",
    "        return epoch_loss,epoch_accuracy\n",
    "        \n",
    "        \n",
    "        "
   ]
  },
  {
   "cell_type": "code",
   "execution_count": null,
   "id": "abc7c4b3-a51b-4ba4-98b9-f69a697be7b9",
   "metadata": {},
   "outputs": [],
   "source": []
  }
 ],
 "metadata": {
  "kernelspec": {
   "display_name": "Python 3 (ipykernel)",
   "language": "python",
   "name": "python3"
  },
  "language_info": {
   "codemirror_mode": {
    "name": "ipython",
    "version": 3
   },
   "file_extension": ".py",
   "mimetype": "text/x-python",
   "name": "python",
   "nbconvert_exporter": "python",
   "pygments_lexer": "ipython3",
   "version": "3.12.4"
  }
 },
 "nbformat": 4,
 "nbformat_minor": 5
}
